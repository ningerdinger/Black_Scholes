{
 "cells": [
  {
   "cell_type": "code",
   "execution_count": 15,
   "metadata": {},
   "outputs": [],
   "source": [
    "#Running the Blackscholes model from utility\n",
    "from src.utilities.BlackScholes import BS\n",
    "import numpy as np\n",
    "\n",
    "K = 17\n",
    "r = 0.005\n",
    "T = 0.460\n",
    "sigma = 0.3\n",
    "call = []\n",
    "put = []\n",
    "\n",
    "S = [10, 17, 20]\n",
    "for s in S:\n",
    "    bs = BS(s, K, T, r, sigma)\n",
    "    call.append(bs.BS_CALL())\n",
    "    put.append(bs.BS_PUT())"
   ]
  },
  {
   "cell_type": "code",
   "execution_count": 16,
   "metadata": {},
   "outputs": [
    {
     "data": {
      "text/plain": [
       "[0.0039044108207751393, 1.395592744099969, 3.480258803590619]"
      ]
     },
     "execution_count": 16,
     "metadata": {},
     "output_type": "execute_result"
    }
   ],
   "source": [
    "call\n"
   ]
  },
  {
   "cell_type": "code",
   "execution_count": 17,
   "metadata": {},
   "outputs": [
    {
     "data": {
      "text/plain": [
       "[6.964849341367422, 1.3565376746466145, 0.44120373413726455]"
      ]
     },
     "execution_count": 17,
     "metadata": {},
     "output_type": "execute_result"
    }
   ],
   "source": [
    "put"
   ]
  },
  {
   "cell_type": "code",
   "execution_count": 18,
   "metadata": {},
   "outputs": [],
   "source": [
    "import pandas as pd\n",
    "import numpy as np\n",
    "from src.utilities.ValueAtRisk import VaR\n",
    "\n",
    "#processing the data as how you would normally get it raw i.e. removing all the data that were already calculated on excel such that only aspects such as market rate, date, portfolio etc remains\n",
    "names = [\"market rate_ccy-1\", \"market rate_ccy-2\"]\n",
    "sensitivity = 1\n",
    "horizon = 1\n",
    "spot_portfolio = [153084.81, 95891.51]\n",
    "\n",
    "df = pd.read_excel(\"data.xlsx\", \"VaR Calculation\")\n",
    "\n",
    "df.drop(columns=df.columns[:3], axis=1, inplace=True)\n",
    "df.drop(columns=df.columns[-3:], axis=1, inplace=True)\n",
    "df.drop(index=df.index[:3], axis=0, inplace=True)\n",
    "for i in range(2,8):\n",
    "    df.iloc[1,i] = f\"{df.iloc[1,i]}_{df.iloc[0,i]}\" \n",
    "df.drop(index=df.index[:1], axis=0, inplace=True)\n",
    "df.columns = df.iloc[0]\n",
    "df.drop(index=df.index[:1], axis=0, inplace=True)\n",
    "df.drop(index=df.index[-1:], axis=0, inplace=True)\n",
    "df = df.reset_index(drop=True)\n",
    "df_market_rate = df[['date', 'Portfolio', 'market rate_ccy-1', 'market rate_ccy-2']]\n"
   ]
  },
  {
   "cell_type": "code",
   "execution_count": 19,
   "metadata": {},
   "outputs": [
    {
     "name": "stderr",
     "output_type": "stream",
     "text": [
      "e:\\ING\\src\\utilities\\ValueAtRisk.py:62: SettingWithCopyWarning: \n",
      "A value is trying to be set on a copy of a slice from a DataFrame.\n",
      "Try using .loc[row_indexer,col_indexer] = value instead\n",
      "\n",
      "See the caveats in the documentation: https://pandas.pydata.org/pandas-docs/stable/user_guide/indexing.html#returning-a-view-versus-a-copy\n",
      "  self.df[\"day_shift_\"+name[-5:]] = list_shift\n",
      "e:\\ING\\src\\utilities\\ValueAtRisk.py:62: SettingWithCopyWarning: \n",
      "A value is trying to be set on a copy of a slice from a DataFrame.\n",
      "Try using .loc[row_indexer,col_indexer] = value instead\n",
      "\n",
      "See the caveats in the documentation: https://pandas.pydata.org/pandas-docs/stable/user_guide/indexing.html#returning-a-view-versus-a-copy\n",
      "  self.df[\"day_shift_\"+name[-5:]] = list_shift\n",
      "e:\\ING\\src\\utilities\\ValueAtRisk.py:78: SettingWithCopyWarning: \n",
      "A value is trying to be set on a copy of a slice from a DataFrame.\n",
      "Try using .loc[row_indexer,col_indexer] = value instead\n",
      "\n",
      "See the caveats in the documentation: https://pandas.pydata.org/pandas-docs/stable/user_guide/indexing.html#returning-a-view-versus-a-copy\n",
      "  df[\"pnl_vector_\"+self.names[j][-5:]] = list_pnl\n",
      "e:\\ING\\src\\utilities\\ValueAtRisk.py:78: SettingWithCopyWarning: \n",
      "A value is trying to be set on a copy of a slice from a DataFrame.\n",
      "Try using .loc[row_indexer,col_indexer] = value instead\n",
      "\n",
      "See the caveats in the documentation: https://pandas.pydata.org/pandas-docs/stable/user_guide/indexing.html#returning-a-view-versus-a-copy\n",
      "  df[\"pnl_vector_\"+self.names[j][-5:]] = list_pnl\n"
     ]
    },
    {
     "data": {
      "text/html": [
       "<div>\n",
       "<style scoped>\n",
       "    .dataframe tbody tr th:only-of-type {\n",
       "        vertical-align: middle;\n",
       "    }\n",
       "\n",
       "    .dataframe tbody tr th {\n",
       "        vertical-align: top;\n",
       "    }\n",
       "\n",
       "    .dataframe thead th {\n",
       "        text-align: right;\n",
       "    }\n",
       "</style>\n",
       "<table border=\"1\" class=\"dataframe\">\n",
       "  <thead>\n",
       "    <tr style=\"text-align: right;\">\n",
       "      <th>4</th>\n",
       "      <th>date</th>\n",
       "      <th>Portfolio</th>\n",
       "      <th>market rate_ccy-1</th>\n",
       "      <th>market rate_ccy-2</th>\n",
       "      <th>day_shift_ccy-1</th>\n",
       "      <th>day_shift_ccy-2</th>\n",
       "      <th>pnl_vector_ccy-1</th>\n",
       "      <th>pnl_vector_ccy-2</th>\n",
       "      <th>total_pnl</th>\n",
       "    </tr>\n",
       "  </thead>\n",
       "  <tbody>\n",
       "    <tr>\n",
       "      <th>0</th>\n",
       "      <td>2019-11-14 00:00:00</td>\n",
       "      <td>FXTEST</td>\n",
       "      <td>1.168443</td>\n",
       "      <td>0.886564</td>\n",
       "      <td>0.002115</td>\n",
       "      <td>0.002527</td>\n",
       "      <td>323.756200</td>\n",
       "      <td>242.289821</td>\n",
       "      <td>566.046021</td>\n",
       "    </tr>\n",
       "    <tr>\n",
       "      <th>1</th>\n",
       "      <td>2019-11-13 00:00:00</td>\n",
       "      <td>FXTEST</td>\n",
       "      <td>1.165977</td>\n",
       "      <td>0.88433</td>\n",
       "      <td>-0.000047</td>\n",
       "      <td>0.000973</td>\n",
       "      <td>-7.139733</td>\n",
       "      <td>93.279679</td>\n",
       "      <td>86.139946</td>\n",
       "    </tr>\n",
       "    <tr>\n",
       "      <th>2</th>\n",
       "      <td>2019-11-12 00:00:00</td>\n",
       "      <td>FXTEST</td>\n",
       "      <td>1.166031</td>\n",
       "      <td>0.88347</td>\n",
       "      <td>-0.000746</td>\n",
       "      <td>0.006759</td>\n",
       "      <td>-114.241063</td>\n",
       "      <td>648.087332</td>\n",
       "      <td>533.846269</td>\n",
       "    </tr>\n",
       "    <tr>\n",
       "      <th>3</th>\n",
       "      <td>2019-11-11 00:00:00</td>\n",
       "      <td>FXTEST</td>\n",
       "      <td>1.166902</td>\n",
       "      <td>0.877539</td>\n",
       "      <td>0.005321</td>\n",
       "      <td>-0.000136</td>\n",
       "      <td>814.575462</td>\n",
       "      <td>-13.061579</td>\n",
       "      <td>801.513883</td>\n",
       "    </tr>\n",
       "    <tr>\n",
       "      <th>4</th>\n",
       "      <td>2019-11-08 00:00:00</td>\n",
       "      <td>FXTEST</td>\n",
       "      <td>1.160726</td>\n",
       "      <td>0.877659</td>\n",
       "      <td>0.000012</td>\n",
       "      <td>0.001584</td>\n",
       "      <td>1.776895</td>\n",
       "      <td>151.927424</td>\n",
       "      <td>153.704319</td>\n",
       "    </tr>\n",
       "    <tr>\n",
       "      <th>...</th>\n",
       "      <td>...</td>\n",
       "      <td>...</td>\n",
       "      <td>...</td>\n",
       "      <td>...</td>\n",
       "      <td>...</td>\n",
       "      <td>...</td>\n",
       "      <td>...</td>\n",
       "      <td>...</td>\n",
       "      <td>...</td>\n",
       "    </tr>\n",
       "    <tr>\n",
       "      <th>255</th>\n",
       "      <td>2018-11-20 00:00:00</td>\n",
       "      <td>FXTEST</td>\n",
       "      <td>1.123899</td>\n",
       "      <td>0.912825</td>\n",
       "      <td>-0.099184</td>\n",
       "      <td>0.002328</td>\n",
       "      <td>-15183.599917</td>\n",
       "      <td>223.207075</td>\n",
       "      <td>-14960.392842</td>\n",
       "    </tr>\n",
       "    <tr>\n",
       "      <th>256</th>\n",
       "      <td>2018-11-19 00:00:00</td>\n",
       "      <td>FXTEST</td>\n",
       "      <td>1.247645</td>\n",
       "      <td>0.910705</td>\n",
       "      <td>0.107323</td>\n",
       "      <td>0.011429</td>\n",
       "      <td>16429.468702</td>\n",
       "      <td>1095.977825</td>\n",
       "      <td>17525.446527</td>\n",
       "    </tr>\n",
       "    <tr>\n",
       "      <th>257</th>\n",
       "      <td>2018-11-16 00:00:00</td>\n",
       "      <td>FXTEST</td>\n",
       "      <td>1.126722</td>\n",
       "      <td>0.900414</td>\n",
       "      <td>-0.002546</td>\n",
       "      <td>-0.006033</td>\n",
       "      <td>-389.814058</td>\n",
       "      <td>-578.491912</td>\n",
       "      <td>-968.305969</td>\n",
       "    </tr>\n",
       "    <tr>\n",
       "      <th>258</th>\n",
       "      <td>2018-11-15 00:00:00</td>\n",
       "      <td>FXTEST</td>\n",
       "      <td>1.129599</td>\n",
       "      <td>0.905879</td>\n",
       "      <td>-0.017723</td>\n",
       "      <td>0.011867</td>\n",
       "      <td>-2713.184304</td>\n",
       "      <td>1137.946174</td>\n",
       "      <td>-1575.238131</td>\n",
       "    </tr>\n",
       "    <tr>\n",
       "      <th>259</th>\n",
       "      <td>2018-11-14 00:00:00</td>\n",
       "      <td>FXTEST</td>\n",
       "      <td>1.14998</td>\n",
       "      <td>0.895255</td>\n",
       "      <td>NaN</td>\n",
       "      <td>NaN</td>\n",
       "      <td>NaN</td>\n",
       "      <td>NaN</td>\n",
       "      <td>0.000000</td>\n",
       "    </tr>\n",
       "  </tbody>\n",
       "</table>\n",
       "<p>260 rows × 9 columns</p>\n",
       "</div>"
      ],
      "text/plain": [
       "4                   date Portfolio market rate_ccy-1 market rate_ccy-2  \\\n",
       "0    2019-11-14 00:00:00    FXTEST          1.168443          0.886564   \n",
       "1    2019-11-13 00:00:00    FXTEST          1.165977           0.88433   \n",
       "2    2019-11-12 00:00:00    FXTEST          1.166031           0.88347   \n",
       "3    2019-11-11 00:00:00    FXTEST          1.166902          0.877539   \n",
       "4    2019-11-08 00:00:00    FXTEST          1.160726          0.877659   \n",
       "..                   ...       ...               ...               ...   \n",
       "255  2018-11-20 00:00:00    FXTEST          1.123899          0.912825   \n",
       "256  2018-11-19 00:00:00    FXTEST          1.247645          0.910705   \n",
       "257  2018-11-16 00:00:00    FXTEST          1.126722          0.900414   \n",
       "258  2018-11-15 00:00:00    FXTEST          1.129599          0.905879   \n",
       "259  2018-11-14 00:00:00    FXTEST           1.14998          0.895255   \n",
       "\n",
       "4   day_shift_ccy-1 day_shift_ccy-2  pnl_vector_ccy-1  pnl_vector_ccy-2  \\\n",
       "0          0.002115        0.002527        323.756200        242.289821   \n",
       "1         -0.000047        0.000973         -7.139733         93.279679   \n",
       "2         -0.000746        0.006759       -114.241063        648.087332   \n",
       "3          0.005321       -0.000136        814.575462        -13.061579   \n",
       "4          0.000012        0.001584          1.776895        151.927424   \n",
       "..              ...             ...               ...               ...   \n",
       "255       -0.099184        0.002328     -15183.599917        223.207075   \n",
       "256        0.107323        0.011429      16429.468702       1095.977825   \n",
       "257       -0.002546       -0.006033       -389.814058       -578.491912   \n",
       "258       -0.017723        0.011867      -2713.184304       1137.946174   \n",
       "259             NaN             NaN               NaN               NaN   \n",
       "\n",
       "4       total_pnl  \n",
       "0      566.046021  \n",
       "1       86.139946  \n",
       "2      533.846269  \n",
       "3      801.513883  \n",
       "4      153.704319  \n",
       "..            ...  \n",
       "255 -14960.392842  \n",
       "256  17525.446527  \n",
       "257   -968.305969  \n",
       "258  -1575.238131  \n",
       "259      0.000000  \n",
       "\n",
       "[260 rows x 9 columns]"
      ]
     },
     "execution_count": 19,
     "metadata": {},
     "output_type": "execute_result"
    }
   ],
   "source": [
    "test = VaR(df_market_rate, names, spot_portfolio)\n",
    "df = test.total_pnl()\n",
    "one_day_var = test.one_day_var()\n",
    "df"
   ]
  },
  {
   "cell_type": "code",
   "execution_count": 20,
   "metadata": {},
   "outputs": [
    {
     "data": {
      "text/plain": [
       "-13572.733792468436"
      ]
     },
     "execution_count": 20,
     "metadata": {},
     "output_type": "execute_result"
    }
   ],
   "source": [
    "one_day_var"
   ]
  },
  {
   "cell_type": "code",
   "execution_count": 21,
   "metadata": {},
   "outputs": [],
   "source": [
    "#you can also pip install it as a package and run without all the files in the directory. I already uploaded it on test pypi\n",
    "#note I have not tested this properly yet. I was in process of doing that.\n",
    "\n",
    "\n",
    "#pip install -i https://test.pypi.org/simple/ing"
   ]
  }
 ],
 "metadata": {
  "kernelspec": {
   "display_name": "Python 3",
   "language": "python",
   "name": "python3"
  },
  "language_info": {
   "codemirror_mode": {
    "name": "ipython",
    "version": 3
   },
   "file_extension": ".py",
   "mimetype": "text/x-python",
   "name": "python",
   "nbconvert_exporter": "python",
   "pygments_lexer": "ipython3",
   "version": "3.10.4"
  },
  "orig_nbformat": 4,
  "vscode": {
   "interpreter": {
    "hash": "a201bd2bcf2ce86bc96f6a534c05044cf84413470c383ec91327d1664300d02a"
   }
  }
 },
 "nbformat": 4,
 "nbformat_minor": 2
}
